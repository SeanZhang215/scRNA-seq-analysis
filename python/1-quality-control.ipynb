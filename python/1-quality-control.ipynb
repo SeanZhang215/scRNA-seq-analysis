{
 "cells": [
  {
   "cell_type": "markdown",
   "metadata": {},
   "source": [
    "# Quality Control and Filtering of scRNA-seq Data"
   ]
  },
  {
   "cell_type": "markdown",
   "metadata": {},
   "source": [
    "## Import required libraries"
   ]
  },
  {
   "cell_type": "code",
   "execution_count": null,
   "metadata": {},
   "outputs": [],
   "source": [
    "import scanpy as sc\n",
    "import matplotlib.pyplot as plt\n",
    "import seaborn as sns\n",
    "from pathlib import Path\n",
    "import numpy as np"
   ]
  },
  {
   "cell_type": "markdown",
   "metadata": {},
   "source": [
    "## Configure Environment\n"
   ]
  },
  {
   "cell_type": "code",
   "execution_count": 13,
   "metadata": {},
   "outputs": [],
   "source": [
    "# Configure Scanpy settings\n",
    "sc.settings.verbosity = 3  # Show more output by default\n",
    "sc.settings.set_figure_params(dpi=100, figsize=(8, 8))\n",
    "np.random.seed(42)\n",
    "\n",
    "# Project Configuration and paths\n",
    "PROJ_NAME = \"\"\n",
    "PROJ_DESCRIPTION = \"\"\n",
    "FULL_PROJ_NAME = f\"{PROJ_NAME}_{PROJ_DESCRIPTION}\"\n",
    "\n",
    "PROJECT_DIR = Path(\"/path/to/project\")\n",
    "OUTPUT_DIR = PROJECT_DIR / \"output\""
   ]
  },
  {
   "cell_type": "markdown",
   "metadata": {},
   "source": [
    "## Data Loading"
   ]
  },
  {
   "cell_type": "code",
   "execution_count": null,
   "metadata": {},
   "outputs": [],
   "source": [
    "print(\"Loading data...\")\n",
    "adata = sc.read_h5ad(OUTPUT_DIR / f\"{FULL_PROJ_NAME}_raw.h5ad\")\n",
    "print(f\"Initial data shape: {adata.shape[0]} cells and {adata.shape[1]} genes\")"
   ]
  },
  {
   "cell_type": "markdown",
   "metadata": {},
   "source": [
    "## QC"
   ]
  },
  {
   "cell_type": "code",
   "execution_count": null,
   "metadata": {},
   "outputs": [],
   "source": [
    "# Calculate QC metrics\n",
    "print(\"\\nCalculating QC metrics...\")\n",
    "# Annotate mitochondrial genes -- mouse\n",
    "adata.var['mt'] = adata.var_names.str.startswith('mt-')\n",
    "\n",
    "sc.pp.calculate_qc_metrics(\n",
    "    adata,\n",
    "    qc_vars=['mt'],\n",
    "    percent_top=None,\n",
    "    log1p=False,\n",
    "    inplace=True\n",
    ")"
   ]
  },
  {
   "cell_type": "code",
   "execution_count": null,
   "metadata": {},
   "outputs": [],
   "source": [
    "# Plot QC distributions before filtering\n",
    "fig, axs = plt.subplots(1, 3, figsize=(15, 5))\n",
    "\n",
    "sc.pl.violin(adata, 'n_genes_by_counts', ax=axs[0], show=False)\n",
    "axs[0].set_title('Genes per Cell')\n",
    "\n",
    "sc.pl.violin(adata, 'total_counts', ax=axs[1], show=False)\n",
    "axs[1].set_title('UMI Counts per Cell')\n",
    "\n",
    "sc.pl.violin(adata, 'pct_counts_mt', ax=axs[2], show=False)\n",
    "axs[2].set_title('Mitochondrial Content')\n",
    "\n",
    "plt.tight_layout()\n",
    "plt.show()\n"
   ]
  },
  {
   "cell_type": "code",
   "execution_count": null,
   "metadata": {},
   "outputs": [],
   "source": [
    "# Plot relationships between QC metrics\n",
    "sc.pl.scatter(adata, 'total_counts', 'n_genes_by_counts')\n",
    "plt.show()\n",
    "\n",
    "sc.pl.scatter(adata, 'total_counts', 'pct_counts_mt')\n",
    "plt.show()"
   ]
  },
  {
   "cell_type": "code",
   "execution_count": 18,
   "metadata": {},
   "outputs": [],
   "source": [
    "# Set filtering parameters\n",
    "qc_params = {\n",
    "    'min_genes': 200,   \n",
    "    'max_genes': 5000,  \n",
    "    'min_counts': 1000,   \n",
    "    'max_counts': 30000,  \n",
    "    'max_mt': 5          \n",
    "}"
   ]
  },
  {
   "cell_type": "code",
   "execution_count": null,
   "metadata": {},
   "outputs": [],
   "source": [
    "# Apply QC filters\n",
    "print(\"\\nApplying QC filters...\")\n",
    "print(f\"Initial cells: {adata.shape[0]}\")\n",
    "\n",
    "# Filter cells\n",
    "adata = adata[adata.obs.n_genes_by_counts >= qc_params['min_genes']]\n",
    "adata = adata[adata.obs.n_genes_by_counts < qc_params['max_genes']]\n",
    "adata = adata[adata.obs.total_counts >= qc_params['min_counts']]\n",
    "adata = adata[adata.obs.total_counts < qc_params['max_counts']]\n",
    "adata = adata[adata.obs.pct_counts_mt < qc_params['max_mt']]\n",
    "\n",
    "# Filter genes\n",
    "sc.pp.filter_genes(adata, min_cells=3)\n",
    "\n",
    "print(f\"Remaining cells: {adata.shape[0]}\")\n",
    "print(f\"Remaining genes: {adata.shape[1]}\")"
   ]
  },
  {
   "cell_type": "code",
   "execution_count": null,
   "metadata": {},
   "outputs": [],
   "source": [
    "# Plot post-filtering QC metrics\n",
    "fig, axs = plt.subplots(1, 3, figsize=(15, 5))\n",
    "\n",
    "sc.pl.violin(adata, 'n_genes_by_counts', ax=axs[0], show=False)\n",
    "axs[0].set_title('Genes per Cell (After QC)')\n",
    "\n",
    "sc.pl.violin(adata, 'total_counts', ax=axs[1], show=False)\n",
    "axs[1].set_title('UMI Counts per Cell (After QC)')\n",
    "\n",
    "sc.pl.violin(adata, 'pct_counts_mt', ax=axs[2], show=False)\n",
    "axs[2].set_title('Mitochondrial Content (After QC)')\n",
    "\n",
    "plt.tight_layout()\n",
    "plt.show()"
   ]
  },
  {
   "cell_type": "markdown",
   "metadata": {},
   "source": [
    "## Saving Data"
   ]
  },
  {
   "cell_type": "code",
   "execution_count": null,
   "metadata": {},
   "outputs": [],
   "source": [
    "\n",
    "# Save the filtered data\n",
    "output_file = OUTPUT_DIR / f\"{FULL_PROJ_NAME}_qc.h5ad\"\n",
    "print(f\"\\nSaving filtered data to: {output_file}\")\n",
    "adata.write(output_file)\n",
    "print(\"Quality control and filtering complete!\")"
   ]
  }
 ],
 "metadata": {
  "kernelspec": {
   "display_name": "bioinfo_env",
   "language": "python",
   "name": "python3"
  },
  "language_info": {
   "codemirror_mode": {
    "name": "ipython",
    "version": 3
   },
   "file_extension": ".py",
   "mimetype": "text/x-python",
   "name": "python",
   "nbconvert_exporter": "python",
   "pygments_lexer": "ipython3",
   "version": "3.10.16"
  }
 },
 "nbformat": 4,
 "nbformat_minor": 2
}
