{
 "cells": [
  {
   "cell_type": "markdown",
   "metadata": {},
   "source": [
    "# Cell Type Identification and Annotation"
   ]
  },
  {
   "cell_type": "markdown",
   "metadata": {},
   "source": [
    "## Import required libraries"
   ]
  },
  {
   "cell_type": "code",
   "execution_count": 1,
   "metadata": {},
   "outputs": [],
   "source": [
    "import scanpy as sc\n",
    "import numpy as np\n",
    "import pandas as pd\n",
    "import matplotlib.pyplot as plt\n",
    "import seaborn as sns\n",
    "from pathlib import Path"
   ]
  },
  {
   "cell_type": "markdown",
   "metadata": {},
   "source": [
    "## Configure Environment\n"
   ]
  },
  {
   "cell_type": "code",
   "execution_count": 2,
   "metadata": {},
   "outputs": [],
   "source": [
    "# Configure Scanpy settings\n",
    "sc.settings.verbosity = 3  # Show more output by default\n",
    "sc.settings.set_figure_params(dpi=100, figsize=(8, 8))\n",
    "np.random.seed(42)\n",
    "\n",
    "# Project Configuration and paths\n",
    "PROJ_NAME = \"\"\n",
    "PROJ_DESCRIPTION = \"\"\n",
    "FULL_PROJ_NAME = f\"{PROJ_NAME}_{PROJ_DESCRIPTION}\"\n",
    "\n",
    "PROJECT_DIR = Path(\"/path/to/project\")\n",
    "OUTPUT_DIR = PROJECT_DIR / \"output\""
   ]
  },
  {
   "cell_type": "markdown",
   "metadata": {},
   "source": [
    "## Data Loading"
   ]
  },
  {
   "cell_type": "code",
   "execution_count": null,
   "metadata": {},
   "outputs": [],
   "source": [
    "# Load normalized data\n",
    "print(\"Loading normalized data...\")\n",
    "adata = sc.read_h5ad(OUTPUT_DIR / f\"{FULL_PROJ_NAME}_normalized.h5ad\")\n",
    "print(f\"Data shape: {adata.shape[0]} cells and {adata.shape[1]} genes\")"
   ]
  },
  {
   "cell_type": "markdown",
   "metadata": {},
   "source": [
    "## Remove Contamination Cells"
   ]
  },
  {
   "cell_type": "code",
   "execution_count": null,
   "metadata": {},
   "outputs": [],
   "source": [
    "# Check for glial contamination\n",
    "print(\"\\nChecking for glial contamination...\")\n",
    "glial_markers = ['Atp1b2', 'Fabp7', 'Sostdc1', 'Timp3']\n",
    "\n",
    "# Plot glial markers\n",
    "sc.pl.dotplot(\n",
    "    adata,\n",
    "    var_names=glial_markers,\n",
    "    groupby='leiden_res1',\n",
    "    standard_scale='var'\n",
    ")\n",
    "plt.show()"
   ]
  },
  {
   "cell_type": "code",
   "execution_count": null,
   "metadata": {},
   "outputs": [],
   "source": [
    "# Remove glial clusters (based on marker expression)\n",
    "print(\"\\nRemoving glial cells...\")\n",
    "glial_clusters = ['10']  # Update based on your marker analysis\n",
    "if glial_clusters:\n",
    "    # Convert cluster IDs to string type for comparison\n",
    "    adata.obs['leiden_res1'] = adata.obs['leiden_res1'].astype(str)\n",
    "    adata = adata[~adata.obs['leiden_res1'].isin(glial_clusters)]\n",
    "    print(f\"Remaining cells after glial removal: {adata.n_obs}\")\n",
    "\n",
    "    # Rerun dimensional reduction on neurons-only data\n",
    "    print(\"\\nRerunning dimensional reduction on neurons...\")\n",
    "    sc.tl.pca(adata)\n",
    "    sc.pp.neighbors(adata, use_rep='X_pca_harmony')\n",
    "    sc.tl.umap(adata)\n",
    "    sc.tl.leiden(adata, resolution=1, key_added='leiden_res1')"
   ]
  },
  {
   "cell_type": "markdown",
   "metadata": {},
   "source": [
    "## Cell type annotation"
   ]
  },
  {
   "cell_type": "code",
   "execution_count": null,
   "metadata": {},
   "outputs": [],
   "source": [
    "# Analyze neuronal subtypes, these are example markers for DRG neurons\n",
    "print(\"\\nAnalyzing neuronal subtypes...\")\n",
    "neuronal_subtypes = {\n",
    "    'mNP': ['P2rx3', 'Mrgprd', 'Gfra2'],\n",
    "    'mNFa': ['Necab2', 'Nefh'],\n",
    "    'mNFb': ['Fam19a1', 'Nefh'],\n",
    "    'mPEPa': ['Smr2', 'Calca'],\n",
    "    'mPEPb': ['Trpa1', 'Calca'],\n",
    "    'pNF': ['Spp1', 'Nefh'],\n",
    "    'pPEP': ['Th', 'Calca']\n",
    "}\n",
    "\n",
    "# Plot neuronal markers\n",
    "all_markers = list(set([gene for genes in neuronal_subtypes.values() for gene in genes]))\n",
    "sc.pl.dotplot(\n",
    "    adata,\n",
    "    var_names=all_markers,\n",
    "    groupby='leiden_res1',\n",
    "    standard_scale='var'\n",
    ")\n",
    "plt.show()"
   ]
  },
  {
   "cell_type": "code",
   "execution_count": null,
   "metadata": {},
   "outputs": [],
   "source": [
    "# Find cluster markers\n",
    "print(\"\\nFinding cluster markers...\")\n",
    "sc.tl.rank_genes_groups(\n",
    "    adata,\n",
    "    groupby='leiden_res1',\n",
    "    method='wilcoxon',\n",
    "    pts=True         # Calculate percentage of cells expressing genes\n",
    ")\n",
    "\n",
    "\n",
    "# Plot top markers\n",
    "sc.pl.rank_genes_groups(\n",
    "    adata,\n",
    "    n_genes=10,\n",
    "    sharey=False\n",
    ")\n",
    "plt.show()"
   ]
  },
  {
   "cell_type": "code",
   "execution_count": null,
   "metadata": {},
   "outputs": [],
   "source": [
    "# Get marker results as dataframe\n",
    "marker_results = sc.get.rank_genes_groups_df(\n",
    "    adata,\n",
    "    group=None,\n",
    "    key='rank_genes_wilcoxon',\n",
    "    pval_cutoff=0.05,\n",
    "    log2fc_min=0.25\n",
    ")\n",
    "\n",
    "print(\"\\nTop markers per cluster:\")\n",
    "print(marker_results.groupby('group').head(5))"
   ]
  },
  {
   "cell_type": "code",
   "execution_count": null,
   "metadata": {},
   "outputs": [],
   "source": [
    "# Assign cell types\n",
    "print(\"\\nAssigning cell types...\")\n",
    "neuron_assignments = {\n",
    "    'mNP': ['0', '3'],    # Clusters showing mNP markers\n",
    "    'mNFa': ['7'],        # Clusters showing mNFa markers\n",
    "    'mNFb': ['2,8'],        # Clusters showing mNFb markers\n",
    "    'mPEPa': ['5'],       # Clusters showing mPEPa markers\n",
    "    'mPEPb': ['6'],       # Clusters showing mPEPb markers\n",
    "    'pNF': ['4,9'],         # Clusters showing pNF markers\n",
    "    'pPEP': ['1']         # Clusters showing pPEP markers\n",
    "}\n",
    "\n",
    "# Create cell type assignments\n",
    "adata.obs['celltype'] = 'Unknown'\n",
    "for celltype, clusters in neuron_assignments.items():\n",
    "    mask = adata.obs['leiden_res1'].isin(clusters)\n",
    "    adata.obs.loc[mask, 'celltype'] = celltype"
   ]
  },
  {
   "cell_type": "code",
   "execution_count": null,
   "metadata": {},
   "outputs": [],
   "source": [
    "# Final visualization\n",
    "print(\"\\nGenerating final visualizations...\")\n",
    "# UMAP by cell type\n",
    "sc.pl.umap(adata, color='celltype', legend_loc='on data')\n",
    "plt.show()"
   ]
  },
  {
   "cell_type": "markdown",
   "metadata": {},
   "source": [
    "## Other Visulization "
   ]
  },
  {
   "cell_type": "code",
   "execution_count": null,
   "metadata": {},
   "outputs": [],
   "source": [
    "fig, axes = plt.subplots(1, len(adata.obs['treatment'].unique()), figsize=(12, 4))\n",
    "\n",
    "for ax, treatment in zip(axes, adata.obs['treatment'].unique()):\n",
    "    sc.pl.umap(\n",
    "        adata[adata.obs['treatment'] == treatment],\n",
    "        color='celltype',\n",
    "        title=f'Treatment: {treatment}',\n",
    "        show=False,\n",
    "        ax=ax\n",
    "    )\n",
    "\n",
    "plt.tight_layout()\n",
    "plt.show()\n",
    "\n",
    "# Feature plots of key markers\n",
    "sc.pl.umap(\n",
    "    adata,\n",
    "    color=list(set(list(neuronal_subtypes.values())[0]))[:4],\n",
    "    ncols=2\n",
    ")\n",
    "plt.show()"
   ]
  },
  {
   "cell_type": "markdown",
   "metadata": {},
   "source": [
    "## Data Saving"
   ]
  },
  {
   "cell_type": "code",
   "execution_count": null,
   "metadata": {},
   "outputs": [],
   "source": [
    "\n",
    "# Save annotated object\n",
    "output_file = OUTPUT_DIR / f\"{FULL_PROJ_NAME}_annotated.h5ad\"\n",
    "print(f\"\\nSaving annotated data to: {output_file}\")\n",
    "adata.write(output_file)\n",
    "\n",
    "print(\"Cell annotation complete!\")"
   ]
  }
 ],
 "metadata": {
  "kernelspec": {
   "display_name": "bioinfo_env",
   "language": "python",
   "name": "python3"
  },
  "language_info": {
   "codemirror_mode": {
    "name": "ipython",
    "version": 3
   },
   "file_extension": ".py",
   "mimetype": "text/x-python",
   "name": "python",
   "nbconvert_exporter": "python",
   "pygments_lexer": "ipython3",
   "version": "3.10.16"
  }
 },
 "nbformat": 4,
 "nbformat_minor": 2
}
