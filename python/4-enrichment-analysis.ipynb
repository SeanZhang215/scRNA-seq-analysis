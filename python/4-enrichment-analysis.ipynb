{
 "cells": [
  {
   "cell_type": "markdown",
   "metadata": {},
   "source": [
    "# Enrichment Analysis for scRNA-seq Data"
   ]
  },
  {
   "cell_type": "markdown",
   "metadata": {},
   "source": [
    "## Import required libraries"
   ]
  },
  {
   "cell_type": "code",
   "execution_count": 1,
   "metadata": {},
   "outputs": [],
   "source": [
    "import scanpy as sc\n",
    "import numpy as np\n",
    "import pandas as pd\n",
    "import matplotlib.pyplot as plt\n",
    "import seaborn as sns\n",
    "from pathlib import Path"
   ]
  },
  {
   "cell_type": "markdown",
   "metadata": {},
   "source": [
    "## Configure Environment\n"
   ]
  },
  {
   "cell_type": "code",
   "execution_count": 2,
   "metadata": {},
   "outputs": [],
   "source": [
    "# Configure Scanpy settings\n",
    "sc.settings.verbosity = 3  # Show more output by default\n",
    "sc.settings.set_figure_params(dpi=100, figsize=(8, 8))\n",
    "np.random.seed(42)\n",
    "\n",
    "# Project Configuration and paths\n",
    "PROJ_NAME = \"\"\n",
    "PROJ_DESCRIPTION = \"\"\n",
    "FULL_PROJ_NAME = f\"{PROJ_NAME}_{PROJ_DESCRIPTION}\"\n",
    "\n",
    "PROJECT_DIR = Path(\"/path/to/project\")\n",
    "OUTPUT_DIR = PROJECT_DIR / \"output\""
   ]
  },
  {
   "cell_type": "markdown",
   "metadata": {},
   "source": [
    "## Data Loading"
   ]
  },
  {
   "cell_type": "code",
   "execution_count": null,
   "metadata": {},
   "outputs": [],
   "source": [
    "# Load annotated data\n",
    "print(\"Loading annotated data...\")\n",
    "adata = sc.read_h5ad(OUTPUT_DIR / f\"{FULL_PROJ_NAME}_annotated.h5ad\")\n",
    "print(f\"Data shape: {adata.shape[0]} cells and {adata.shape[1]} genes\")"
   ]
  },
  {
   "cell_type": "markdown",
   "metadata": {},
   "source": [
    "## DEG Analysis"
   ]
  },
  {
   "cell_type": "code",
   "execution_count": null,
   "metadata": {},
   "outputs": [],
   "source": [
    "# Find differentially expressed genes\n",
    "print(\"\\nFinding differentially expressed genes...\")\n",
    "sc.tl.rank_genes_groups(\n",
    "    adata,\n",
    "    groupby='celltype',\n",
    "    method='wilcoxon',\n",
    "    key_added='rank_genes_wilcox'\n",
    ")"
   ]
  },
  {
   "cell_type": "code",
   "execution_count": 5,
   "metadata": {},
   "outputs": [],
   "source": [
    "# Get DEGs as dataframe\n",
    "def get_significant_degs(adata, min_logfc=0.8, max_pval=0.05):\n",
    "    \"\"\"Get significant DEGs for each cell type\"\"\"\n",
    "    degs_dict = {}\n",
    "    \n",
    "    for group in adata.obs['celltype'].unique():\n",
    "        # Get DEGs for this group\n",
    "        degs = sc.get.rank_genes_groups_df(\n",
    "            adata,\n",
    "            group=group,\n",
    "            key='rank_genes_wilcox'\n",
    "        )\n",
    "        \n",
    "        # Filter for significance\n",
    "        sig_degs = degs[\n",
    "            (degs['logfoldchanges'] >= min_logfc) &\n",
    "            (degs['pvals_adj'] < max_pval)\n",
    "        ]\n",
    "        \n",
    "        degs_dict[group] = sig_degs['names'].tolist()\n",
    "    \n",
    "    return degs_dict\n",
    "\n"
   ]
  },
  {
   "cell_type": "code",
   "execution_count": null,
   "metadata": {},
   "outputs": [],
   "source": [
    "# Get significant DEGs\n",
    "print(\"\\nExtracting significant DEGs...\")\n",
    "deg_dict = get_significant_degs(adata)\n",
    "\n",
    "for celltype, genes in deg_dict.items():\n",
    "    print(f\"{celltype}: {len(genes)} significant genes\")"
   ]
  },
  {
   "cell_type": "markdown",
   "metadata": {},
   "source": [
    "## GO Enrichment Analysis"
   ]
  },
  {
   "cell_type": "code",
   "execution_count": null,
   "metadata": {},
   "outputs": [],
   "source": [
    "print(\"\\nPerforming GO enrichment analysis...\")\n",
    "go_results = {}\n",
    "\n",
    "for celltype, genes in deg_dict.items():\n",
    "    if len(genes) > 0:\n",
    "        try:\n",
    "            # Run GO enrichment\n",
    "            enr = gp.enrichr(\n",
    "                gene_list=genes,\n",
    "                organism='Mouse',\n",
    "                gene_sets=['GO_Biological_Process_2021'],\n",
    "                cutoff=0.05\n",
    "            )\n",
    "            go_results[celltype] = enr.results\n",
    "            \n",
    "            # Plot top GO terms\n",
    "            if not enr.results.empty:\n",
    "                plt.figure(figsize=(10, 6))\n",
    "                sns.barplot(enr.results.head(10))\n",
    "                plt.title(f'Top GO terms for {celltype}')\n",
    "                plt.tight_layout()\n",
    "                plt.show()\n",
    "                \n",
    "        except Exception as e:\n",
    "            print(f\"Error in GO analysis for {celltype}: {str(e)}\")\n"
   ]
  },
  {
   "cell_type": "markdown",
   "metadata": {},
   "source": [
    "## KEGG Pathway Analysis"
   ]
  },
  {
   "cell_type": "code",
   "execution_count": null,
   "metadata": {},
   "outputs": [],
   "source": [
    "print(\"\\nPerforming KEGG pathway analysis...\")\n",
    "kegg_results = {}\n",
    "\n",
    "for celltype, genes in deg_dict.items():\n",
    "    if len(genes) > 0:\n",
    "        try:\n",
    "            # Run KEGG enrichment\n",
    "            enr = gp.enrichr(\n",
    "                gene_list=genes,\n",
    "                organism='Mouse',\n",
    "                gene_sets=['KEGG_2019_Mouse'],\n",
    "                cutoff=0.05\n",
    "            )\n",
    "            kegg_results[celltype] = enr.results\n",
    "            \n",
    "        except Exception as e:\n",
    "            print(f\"Error in KEGG analysis for {celltype}: {str(e)}\")\n"
   ]
  },
  {
   "cell_type": "code",
   "execution_count": null,
   "metadata": {},
   "outputs": [],
   "source": [
    "# Plot combined KEGG results\n",
    "print(\"\\nPlotting KEGG pathway analysis results...\")\n",
    "# Combine significant pathways from all cell types\n",
    "all_kegg = pd.concat([df.assign(celltype=ct) for ct, df in kegg_results.items()])\n",
    "all_kegg = all_kegg[all_kegg['Adjusted P-value'] < 0.05]\n",
    "# Add -log10(Adjusted P-value) column\n",
    "all_kegg['-log10(Adjusted P-value)'] = -np.log10(all_kegg['Adjusted P-value'])\n",
    "\n",
    "if not all_kegg.empty:\n",
    "    plt.figure(figsize=(12, 8))\n",
    "    sns.scatterplot(\n",
    "        data=all_kegg,\n",
    "        x='celltype',\n",
    "        y='Term',\n",
    "        size='-log10(Adjusted P-value)',\n",
    "        hue='Combined Score',\n",
    "        sizes=(100, 400),  # Increased minimum size and adjusted range\n",
    "    )\n",
    "    plt.xticks(rotation=45)\n",
    "    plt.title('KEGG Pathways Across Cell Types')\n",
    "    plt.tight_layout()\n",
    "    plt.show()"
   ]
  },
  {
   "cell_type": "markdown",
   "metadata": {},
   "source": [
    "## GSEA"
   ]
  },
  {
   "cell_type": "code",
   "execution_count": null,
   "metadata": {},
   "outputs": [],
   "source": [
    "def prepare_ranked_genes(adata, celltype):\n",
    "    \"\"\"Prepare ranked gene list for GSEA\"\"\"\n",
    "    sc.tl.rank_genes_groups(\n",
    "        adata,\n",
    "        groupby='celltype',\n",
    "        groups=[celltype],\n",
    "        reference='rest',\n",
    "        method='wilcoxon',\n",
    "        key_added=f'gsea_{celltype}'\n",
    "    )\n",
    "    \n",
    "    ranked_genes = sc.get.rank_genes_groups_df(\n",
    "        adata,\n",
    "        group=celltype,\n",
    "        key=f'gsea_{celltype}'\n",
    "    )\n",
    "    \n",
    "    # Remove NA values and duplicates\n",
    "    ranked_genes = ranked_genes.dropna()\n",
    "    ranked_genes = ranked_genes.drop_duplicates(subset='names')\n",
    "    \n",
    "    # Convert gene symbols to uppercase\n",
    "    ranked_genes['names'] = ranked_genes['names'].str.upper()\n",
    "    \n",
    "    ranked_list = pd.Series(\n",
    "        ranked_genes['logfoldchanges'].values,\n",
    "        index=ranked_genes['names'].values\n",
    "    ).sort_values(ascending=False)\n",
    "    \n",
    "    return ranked_list"
   ]
  },
  {
   "cell_type": "code",
   "execution_count": null,
   "metadata": {},
   "outputs": [],
   "source": [
    "\n",
    "print(\"\\nPerforming GSEA analysis...\")\n",
    "\n",
    "\n",
    "# Initialize results dictionary\n",
    "gsea_results = {}\n",
    "\n",
    "# Run GSEA for each cell type\n",
    "for celltype in adata.obs['celltype'].unique():\n",
    "    try:\n",
    "        # Prepare ranked gene list\n",
    "        ranked_genes = prepare_ranked_genes(adata, celltype)\n",
    "        \n",
    "        if ranked_genes is not None and not ranked_genes.empty:\n",
    "            # Run preranked GSEA with adjusted parameters\n",
    "            gs_res = gp.prerank(\n",
    "                rnk=ranked_genes,\n",
    "                gene_sets='Mouse_Gene_Atlas',\n",
    "                min_size=10,\n",
    "                max_size=1000,\n",
    "                permutation_num=100,\n",
    "                no_plot=True,  # Prevent automatic plotting\n",
    "                outdir=None,\n",
    "                seed=42\n",
    "            )\n",
    "            \n",
    "            # Store results\n",
    "            if hasattr(gs_res, 'res2d'):\n",
    "                gsea_results[celltype] = gs_res.res2d\n",
    "                \n",
    "                # Plot top pathways if results exist\n",
    "                if not gs_res.res2d.empty:\n",
    "                    plt.figure(figsize=(12, 6))\n",
    "                    \n",
    "                    # Get top 10 pathways by absolute NES value\n",
    "                    top_pathways = gs_res.res2d.sort_values('NES', ascending=False).head(10)\n",
    "                    plt.barh(range(len(top_pathways)), \n",
    "                            top_pathways['NES'],\n",
    "                            align='center')\n",
    "                    plt.yticks(range(len(top_pathways)), \n",
    "                             top_pathways.Term,\n",
    "                             fontsize=8)\n",
    "                    plt.xlabel('Normalized Enrichment Score (NES)')\n",
    "                    plt.title(f'Top GSEA pathways for {celltype}')\n",
    "                    for i, (nes, fdr) in enumerate(zip(top_pathways['NES'], \n",
    "                                                     top_pathways['FDR q-val'])):\n",
    "                        plt.text(nes, i, f'FDR={fdr:.3f}', \n",
    "                               va='center', fontsize=8)\n",
    "                    plt.tight_layout()\n",
    "                    plt.show()\n",
    "                    \n",
    "    except Exception as e:\n",
    "        print(f\"Error in GSEA analysis for {celltype}: {str(e)}\")\n",
    "\n"
   ]
  },
  {
   "cell_type": "code",
   "execution_count": null,
   "metadata": {},
   "outputs": [],
   "source": [
    "# Print summary of results\n",
    "print(\"\\nGSEA Analysis Summary:\")\n",
    "for celltype, results in gsea_results.items():\n",
    "    if not results.empty:\n",
    "        print(f\"\\n{celltype}: Found {len(results)} enriched gene sets\")\n",
    "        print(\"Top 5 enriched pathways:\")\n",
    "        top5 = results.sort_values('NES', ascending=False).head(5)\n",
    "        print(top5[['Term', 'NES', 'FDR q-val']].to_string())"
   ]
  },
  {
   "cell_type": "markdown",
   "metadata": {},
   "source": [
    "##  Save results"
   ]
  },
  {
   "cell_type": "code",
   "execution_count": null,
   "metadata": {},
   "outputs": [],
   "source": [
    "print(\"\\nSaving enrichment results...\")\n",
    "enrichment_results = {\n",
    "    'DEGs': deg_dict,\n",
    "    'GO': go_results,\n",
    "    'KEGG': kegg_results,\n",
    "    'GSEA': gsea_results\n",
    "}\n",
    "\n",
    "output_file = OUTPUT_DIR / f\"{FULL_PROJ_NAME}_enrichment.pkl\"\n",
    "pd.to_pickle(enrichment_results, output_file)\n",
    "\n",
    "print(\"Enrichment analysis complete!\")"
   ]
  }
 ],
 "metadata": {
  "kernelspec": {
   "display_name": "bioinfo_env_v2",
   "language": "python",
   "name": "python3"
  },
  "language_info": {
   "codemirror_mode": {
    "name": "ipython",
    "version": 3
   },
   "file_extension": ".py",
   "mimetype": "text/x-python",
   "name": "python",
   "nbconvert_exporter": "python",
   "pygments_lexer": "ipython3",
   "version": "3.9.21"
  }
 },
 "nbformat": 4,
 "nbformat_minor": 2
}
