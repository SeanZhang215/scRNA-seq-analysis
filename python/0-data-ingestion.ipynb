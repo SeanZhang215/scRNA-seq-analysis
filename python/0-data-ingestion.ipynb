{
 "cells": [
  {
   "cell_type": "markdown",
   "metadata": {},
   "source": [
    "# Data Ingestion\n",
    "\n",
    "This notebook performs the initial data loading and creates an AnnData object for scRNA-seq analysis.\n",
    "\n"
   ]
  },
  {
   "cell_type": "markdown",
   "metadata": {},
   "source": [
    "## Import Required Libraries"
   ]
  },
  {
   "cell_type": "code",
   "execution_count": null,
   "metadata": {},
   "outputs": [],
   "source": [
    "import os\n",
    "import gc\n",
    "import scanpy as sc\n",
    "import pandas as pd\n",
    "import numpy as np\n",
    "from pathlib import Path"
   ]
  },
  {
   "cell_type": "markdown",
   "metadata": {},
   "source": [
    "## Configure Environment"
   ]
  },
  {
   "cell_type": "code",
   "execution_count": null,
   "metadata": {},
   "outputs": [],
   "source": [
    "# Configure Scanpy settings\n",
    "sc.settings.verbosity = 3  # Show more output by default\n",
    "sc.settings.set_figure_params(dpi=100, figsize=(8, 8))\n",
    "np.random.seed(42)\n",
    "\n",
    "# Project Configuration and paths\n",
    "PROJ_NAME = \"\"\n",
    "PROJ_DESCRIPTION = \"\"\n",
    "FULL_PROJ_NAME = f\"{PROJ_NAME}_{PROJ_DESCRIPTION}\"\n",
    "\n",
    "PROJECT_DIR = Path(\"/path/to/project\")\n",
    "OUTPUT_DIR = PROJECT_DIR / \"output\""
   ]
  },
  {
   "cell_type": "markdown",
   "metadata": {},
   "source": [
    "## Data Loading Functions"
   ]
  },
  {
   "cell_type": "code",
   "execution_count": null,
   "metadata": {},
   "outputs": [],
   "source": [
    "def read_and_process_data():\n",
    "    \"\"\"\n",
    "    Read and process the raw count data and metadata\n",
    "    Returns:\n",
    "        AnnData: Processed data object\n",
    "    \"\"\"\n",
    "    print(\"Reading data files...\")\n",
    "    \n",
    "    # Read metadata and count data\n",
    "    metadata = pd.read_csv(DATA_DIR / \"metadata.csv\")\n",
    "    raw_counts = pd.read_csv(DATA_DIR / \"raw_counts.csv\")\n",
    "\n",
    "    # Process data\n",
    "    cells = metadata['Cell'].astype(str).values\n",
    "    gene_names = raw_counts['Geneid'].values\n",
    "    count_matrix = raw_counts[['Geneid'] + list(cells)]\n",
    "    \n",
    "    # Create AnnData object\n",
    "    adata = sc.AnnData(X=count_matrix.iloc[:, 1:].T)\n",
    "    adata.var_names = gene_names\n",
    "    adata.obs_names = cells\n",
    "    \n",
    "    # Add metadata\n",
    "    adata.obs['treatment'] = metadata['Treatment'].values\n",
    "    adata.obs['location'] = metadata['Location'].values\n",
    "    adata.obs['gender'] = metadata['Gender'].values\n",
    "    adata.obs['batch'] = metadata['Batch'].values\n",
    "    \n",
    "    return adata"
   ]
  },
  {
   "cell_type": "code",
   "execution_count": null,
   "metadata": {},
   "outputs": [],
   "source": [
    "def validate_data(adata):\n",
    "    \"\"\"\n",
    "    Validate the loaded data and print basic statistics\n",
    "    Args:\n",
    "        adata: AnnData object to validate\n",
    "    Returns:\n",
    "        AnnData: Validated data object\n",
    "    \"\"\"\n",
    "    print(\"\\nDataset dimensions:\")\n",
    "    print(f\"Number of cells: {adata.n_obs}\")\n",
    "    print(f\"Number of genes: {adata.n_vars}\")\n",
    "    \n",
    "    print(\"\\nSample metadata:\")\n",
    "    print(adata.obs.head())\n",
    "    \n",
    "    print(\"\\nPreview of count matrix (first 5 cells, first 5 genes):\")\n",
    "    print(adata.X[:5, :5])\n",
    "    \n",
    "    # Calculate basic quality metrics\n",
    "    sc.pp.calculate_qc_metrics(\n",
    "        adata,\n",
    "        percent_top=None,\n",
    "        log1p=False,\n",
    "        inplace=True\n",
    "    )\n",
    "    \n",
    "    return adata"
   ]
  },
  {
   "cell_type": "markdown",
   "metadata": {},
   "source": [
    "## Data Loading and Saving"
   ]
  },
  {
   "cell_type": "code",
   "execution_count": null,
   "metadata": {},
   "outputs": [],
   "source": [
    "print(f\"Starting data loading for project: {FULL_PROJ_NAME}\")\n",
    "\n",
    "# Clear memory\n",
    "gc.collect()\n",
    "\n",
    "try:\n",
    "    # Read and process data\n",
    "    adata = read_and_process_data()\n",
    "    \n",
    "    # Validate data\n",
    "    adata = validate_data(adata)\n",
    "    \n",
    "    # Save the AnnData object\n",
    "    output_file = OUTPUT_DIR / f\"{FULL_PROJ_NAME}_raw.h5ad\"\n",
    "    print(f\"\\nSaving AnnData object to: {output_file}\")\n",
    "    adata.write(output_file)\n",
    "    \n",
    "    print(\"Data loading complete!\")\n",
    "    \n",
    "except Exception as e:\n",
    "    print(f\"An error occurred: {str(e)}\")\n",
    "    raise"
   ]
  }
 ],
 "metadata": {
  "kernelspec": {
   "display_name": "Python 3",
   "language": "python",
   "name": "python3"
  },
  "language_info": {
   "codemirror_mode": {
    "name": "ipython",
    "version": 3
   },
   "file_extension": ".py",
   "mimetype": "text/x-python",
   "name": "python",
   "nbconvert_exporter": "python",
   "pygments_lexer": "ipython3",
   "version": "3.8.0"
  }
 },
 "nbformat": 4,
 "nbformat_minor": 4
}
