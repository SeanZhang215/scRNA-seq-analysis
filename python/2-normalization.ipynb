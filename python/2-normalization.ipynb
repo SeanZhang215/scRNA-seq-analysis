{
 "cells": [
  {
   "cell_type": "markdown",
   "metadata": {},
   "source": [
    "# Normalization, Dimensionality Reduction, and Batch Correction"
   ]
  },
  {
   "cell_type": "markdown",
   "metadata": {},
   "source": [
    "## Import required libraries"
   ]
  },
  {
   "cell_type": "code",
   "execution_count": 22,
   "metadata": {},
   "outputs": [],
   "source": [
    "import scanpy as sc\n",
    "import numpy as np\n",
    "import matplotlib.pyplot as plt\n",
    "from pathlib import Path\n",
    "from scanpy.external.pp import harmony_integrate"
   ]
  },
  {
   "cell_type": "markdown",
   "metadata": {},
   "source": [
    "## Configure Environment\n"
   ]
  },
  {
   "cell_type": "code",
   "execution_count": 59,
   "metadata": {},
   "outputs": [],
   "source": [
    "# Configure Scanpy settings\n",
    "sc.settings.verbosity = 3  # Show more output by default\n",
    "sc.settings.set_figure_params(dpi=100, figsize=(8, 8))\n",
    "np.random.seed(42)\n",
    "\n",
    "# Project Configuration and paths\n",
    "PROJ_NAME = \"\"\n",
    "PROJ_DESCRIPTION = \"\"\n",
    "FULL_PROJ_NAME = f\"{PROJ_NAME}_{PROJ_DESCRIPTION}\"\n",
    "\n",
    "PROJECT_DIR = Path(\"/path/to/project\")\n",
    "OUTPUT_DIR = PROJECT_DIR / \"output\""
   ]
  },
  {
   "cell_type": "markdown",
   "metadata": {},
   "source": [
    "## Load QC data"
   ]
  },
  {
   "cell_type": "code",
   "execution_count": null,
   "metadata": {},
   "outputs": [],
   "source": [
    "# Load QC data\n",
    "print(\"Loading filtered data...\")\n",
    "adata = sc.read_h5ad(OUTPUT_DIR / f\"{FULL_PROJ_NAME}_qc.h5ad\")\n",
    "print(f\"Data shape: {adata.shape[0]} cells and {adata.shape[1]} genes\")"
   ]
  },
  {
   "cell_type": "markdown",
   "metadata": {},
   "source": [
    "## Normalization and PCA"
   ]
  },
  {
   "cell_type": "code",
   "execution_count": null,
   "metadata": {},
   "outputs": [],
   "source": [
    "# Normalization\n",
    "print(\"\\nPerforming normalization...\")\n",
    "sc.pp.normalize_total(adata, target_sum=1e4)\n",
    "sc.pp.log1p(adata)"
   ]
  },
  {
   "cell_type": "code",
   "execution_count": null,
   "metadata": {},
   "outputs": [],
   "source": [
    "# Find highly variable genes\n",
    "print(\"\\nIdentifying highly variable genes...\")\n",
    "sc.pp.highly_variable_genes(\n",
    "    adata,\n",
    "    min_mean=0.0125,\n",
    "    max_mean=3,\n",
    "    min_disp=0.5,\n",
    "    n_top_genes=2000\n",
    ")\n",
    "\n",
    "print(f\"Number of highly variable genes: {sum(adata.var.highly_variable)}\")\n",
    "# Plot highly variable genes\n",
    "sc.pl.highly_variable_genes(adata)\n",
    "plt.show()"
   ]
  },
  {
   "cell_type": "code",
   "execution_count": null,
   "metadata": {},
   "outputs": [],
   "source": [
    "# Scale data\n",
    "print(\"\\nScaling data...\")\n",
    "sc.pp.scale(adata, max_value=10)\n",
    "\n",
    "# Run PCA\n",
    "print(\"\\nRunning PCA...\")\n",
    "sc.tl.pca(adata, svd_solver='arpack')\n",
    "\n",
    "# Plot PCA variance ratio\n",
    "sc.pl.pca_variance_ratio(adata, n_pcs=50, log=True)\n",
    "plt.show()\n",
    "\n",
    "# Plot PCA by batch\n",
    "print(\"\\nPlotting PCA colored by batch...\")\n",
    "sc.pl.pca(adata, color='batch')\n",
    "plt.show()"
   ]
  },
  {
   "cell_type": "markdown",
   "metadata": {},
   "source": [
    "## Batch correction"
   ]
  },
  {
   "cell_type": "code",
   "execution_count": null,
   "metadata": {},
   "outputs": [],
   "source": [
    "adata.obs['batch'] = adata.obs['batch'].astype(str)\n",
    "print(\"\\nUnique batch values:\")\n",
    "print(adata.obs['batch'].unique())\n"
   ]
  },
  {
   "cell_type": "code",
   "execution_count": null,
   "metadata": {},
   "outputs": [],
   "source": [
    "# Convert batch to string\n",
    "adata.obs['batch'] = adata.obs['batch'].astype(str)\n",
    "\n",
    "# Run Harmony and capture the output\n",
    "print(\"\\nPerforming batch correction with Harmony...\")\n",
    "harmony_integrate(adata, 'batch', basis='X_pca', adjusted_basis='X_pca_harmony', max_iter_harmony=20)\n",
    "\n",
    "# Compare PCA and Harmony\n",
    "fig, (ax1, ax2) = plt.subplots(1, 2, figsize=(12, 5))\n",
    "\n",
    "# Plot original PCA\n",
    "sc.pl.pca(adata, color='batch',ax=ax1, show=False)\n",
    "ax1.set_title('Before batch correction (PCA)')\n",
    "\n",
    "# Plot Harmony-corrected result\n",
    "sc.pl.embedding(adata, basis='X_pca_harmony', color='batch', ax=ax2, show=False)\n",
    "ax2.set_title('After batch correction (Harmony)')\n",
    "\n",
    "plt.tight_layout()\n",
    "plt.show()"
   ]
  },
  {
   "cell_type": "markdown",
   "metadata": {},
   "source": [
    "## Clustering"
   ]
  },
  {
   "cell_type": "code",
   "execution_count": null,
   "metadata": {},
   "outputs": [],
   "source": [
    "# Clustering using Harmony corrected matrix\n",
    "print(\"\\nPerforming clustering...\")\n",
    "# Computing neighborhood graph\n",
    "sc.pp.neighbors(adata, use_rep='X_pca_harmony')\n",
    "\n",
    "# Testing multiple resolutions\n",
    "resolutions = [0.05, 0.1, 0.3, 0.5, 0.75, 1, 1.25, 1.5]\n",
    "\n",
    "for res in resolutions:\n",
    "    print(f\"\\nFinding clusters at resolution {res}...\")\n",
    "    sc.tl.leiden(adata, resolution=res, key_added=f'leiden_res{res}')"
   ]
  },
  {
   "cell_type": "code",
   "execution_count": null,
   "metadata": {},
   "outputs": [],
   "source": [
    "# Run UMAP\n",
    "print(\"\\nRunning UMAP...\")\n",
    "sc.tl.umap(adata)\n",
    "\n"
   ]
  },
  {
   "cell_type": "code",
   "execution_count": null,
   "metadata": {},
   "outputs": [],
   "source": [
    "# Visualization\n",
    "print(\"\\nGenerating visualizations...\")\n",
    "\n",
    "# Plot UMAP with different clustering resolutions\n",
    "fig, axes = plt.subplots(2, 4, figsize=(20, 10))\n",
    "axes = axes.flatten()\n",
    "\n",
    "for i, res in enumerate(resolutions):\n",
    "    sc.pl.umap(adata, color=f'leiden_res{res}', ax=axes[i], show=False)\n",
    "    axes[i].set_title(f'Resolution: {res}')\n",
    "\n",
    "plt.tight_layout()\n",
    "plt.show()"
   ]
  },
  {
   "cell_type": "code",
   "execution_count": null,
   "metadata": {},
   "outputs": [],
   "source": [
    "# Plot UMAP with different groupings\n",
    "sc.pl.umap(adata, color=['treatment', 'batch', f'leiden_res{0.5}'])\n",
    "plt.show()"
   ]
  },
  {
   "cell_type": "markdown",
   "metadata": {},
   "source": [
    "## Data Saving"
   ]
  },
  {
   "cell_type": "code",
   "execution_count": null,
   "metadata": {},
   "outputs": [],
   "source": [
    "\n",
    "\n",
    "\n",
    "# Save normalized and processed data\n",
    "output_file = OUTPUT_DIR / f\"{FULL_PROJ_NAME}_normalized.h5ad\"\n",
    "print(f\"\\nSaving processed data to: {output_file}\")\n",
    "adata.write(output_file)\n",
    "\n",
    "print(\"Normalization and Clustering complete!\")\n"
   ]
  }
 ],
 "metadata": {
  "kernelspec": {
   "display_name": "bioinfo_env",
   "language": "python",
   "name": "python3"
  },
  "language_info": {
   "codemirror_mode": {
    "name": "ipython",
    "version": 3
   },
   "file_extension": ".py",
   "mimetype": "text/x-python",
   "name": "python",
   "nbconvert_exporter": "python",
   "pygments_lexer": "ipython3",
   "version": "3.10.16"
  }
 },
 "nbformat": 4,
 "nbformat_minor": 2
}
